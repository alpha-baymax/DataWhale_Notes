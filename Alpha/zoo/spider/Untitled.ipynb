{
 "cells": [
  {
   "cell_type": "code",
   "execution_count": 1,
   "id": "10a3ab4f",
   "metadata": {},
   "outputs": [],
   "source": [
    "import pandas as pd"
   ]
  },
  {
   "cell_type": "code",
   "execution_count": 2,
   "id": "55dcf61b",
   "metadata": {},
   "outputs": [],
   "source": [
    "df_news = pd.read_csv(\"Reuters_news.csv\")"
   ]
  },
  {
   "cell_type": "code",
   "execution_count": 4,
   "id": "596d2e38",
   "metadata": {},
   "outputs": [
    {
     "data": {
      "text/html": [
       "<div>\n",
       "<style scoped>\n",
       "    .dataframe tbody tr th:only-of-type {\n",
       "        vertical-align: middle;\n",
       "    }\n",
       "\n",
       "    .dataframe tbody tr th {\n",
       "        vertical-align: top;\n",
       "    }\n",
       "\n",
       "    .dataframe thead th {\n",
       "        text-align: right;\n",
       "    }\n",
       "</style>\n",
       "<table border=\"1\" class=\"dataframe\">\n",
       "  <thead>\n",
       "    <tr style=\"text-align: right;\">\n",
       "      <th></th>\n",
       "      <th>Id</th>\n",
       "      <th>Date</th>\n",
       "      <th>Title</th>\n",
       "      <th>Content</th>\n",
       "    </tr>\n",
       "  </thead>\n",
       "  <tbody>\n",
       "    <tr>\n",
       "      <th>0</th>\n",
       "      <td>Id</td>\n",
       "      <td>Date</td>\n",
       "      <td>Title</td>\n",
       "      <td>Content</td>\n",
       "    </tr>\n",
       "    <tr>\n",
       "      <th>1</th>\n",
       "      <td>USKBN2J805V</td>\n",
       "      <td>\\n1:26am EST\\n</td>\n",
       "      <td>\\n\\t\\t\\t\\t\\t\\t\\t\\tTesla's Musk exercises all o...</td>\n",
       "      <td>NaN</td>\n",
       "    </tr>\n",
       "    <tr>\n",
       "      <th>2</th>\n",
       "      <td>USKBN2J809S</td>\n",
       "      <td>\\n1:07am EST\\n</td>\n",
       "      <td>\\n\\t\\t\\t\\t\\t\\t\\t\\tTory Burch's Muratore on tec...</td>\n",
       "      <td>NaN</td>\n",
       "    </tr>\n",
       "    <tr>\n",
       "      <th>3</th>\n",
       "      <td>USKBN2J71BI</td>\n",
       "      <td>\\n1:02am EST\\n</td>\n",
       "      <td>\\n\\t\\t\\t\\t\\t\\t\\t\\tDelta, Alaska cancel hundred...</td>\n",
       "      <td>NaN</td>\n",
       "    </tr>\n",
       "    <tr>\n",
       "      <th>4</th>\n",
       "      <td>USKBN2J80A6</td>\n",
       "      <td>\\n12:52am EST\\n</td>\n",
       "      <td>\\n\\t\\t\\t\\t\\t\\t\\t\\tChina's Didi plans Hong Kong...</td>\n",
       "      <td>Reporting by Julie Zhu in Hong Kong and Zhang ...</td>\n",
       "    </tr>\n",
       "  </tbody>\n",
       "</table>\n",
       "</div>"
      ],
      "text/plain": [
       "            Id             Date  \\\n",
       "0           Id             Date   \n",
       "1  USKBN2J805V   \\n1:26am EST\\n   \n",
       "2  USKBN2J809S   \\n1:07am EST\\n   \n",
       "3  USKBN2J71BI   \\n1:02am EST\\n   \n",
       "4  USKBN2J80A6  \\n12:52am EST\\n   \n",
       "\n",
       "                                               Title  \\\n",
       "0                                              Title   \n",
       "1  \\n\\t\\t\\t\\t\\t\\t\\t\\tTesla's Musk exercises all o...   \n",
       "2  \\n\\t\\t\\t\\t\\t\\t\\t\\tTory Burch's Muratore on tec...   \n",
       "3  \\n\\t\\t\\t\\t\\t\\t\\t\\tDelta, Alaska cancel hundred...   \n",
       "4  \\n\\t\\t\\t\\t\\t\\t\\t\\tChina's Didi plans Hong Kong...   \n",
       "\n",
       "                                             Content  \n",
       "0                                            Content  \n",
       "1                                                NaN  \n",
       "2                                                NaN  \n",
       "3                                                NaN  \n",
       "4  Reporting by Julie Zhu in Hong Kong and Zhang ...  "
      ]
     },
     "execution_count": 4,
     "metadata": {},
     "output_type": "execute_result"
    }
   ],
   "source": [
    "df_news.head(5)"
   ]
  },
  {
   "cell_type": "code",
   "execution_count": 11,
   "id": "9d1133a4",
   "metadata": {},
   "outputs": [],
   "source": [
    "d = df_news.loc[4].to_dict()"
   ]
  },
  {
   "cell_type": "code",
   "execution_count": 13,
   "id": "3d19e933",
   "metadata": {},
   "outputs": [
    {
     "data": {
      "text/plain": [
       "{'Id': 'USKBN2J80A6',\n",
       " 'Date': '\\n12:52am EST\\n',\n",
       " 'Title': \"\\n\\t\\t\\t\\t\\t\\t\\t\\tChina's Didi plans Hong Kong 'listing by introduction', picks banks - sources\",\n",
       " 'Content': 'Reporting by Julie Zhu in Hong Kong and Zhang Yan in Shanghai; Additional reporting by Sophie Yu, Selena Li and Scott Murdoch; Editing by Sumeet Chatterjee and Kenneth MaxwellOur Standards: The Thomson Reuters Trust Principles.'}"
      ]
     },
     "execution_count": 13,
     "metadata": {},
     "output_type": "execute_result"
    }
   ],
   "source": [
    "d"
   ]
  },
  {
   "cell_type": "code",
   "execution_count": null,
   "id": "6b18d531",
   "metadata": {},
   "outputs": [],
   "source": []
  }
 ],
 "metadata": {
  "kernelspec": {
   "display_name": "Python 3",
   "language": "python",
   "name": "python3"
  },
  "language_info": {
   "codemirror_mode": {
    "name": "ipython",
    "version": 3
   },
   "file_extension": ".py",
   "mimetype": "text/x-python",
   "name": "python",
   "nbconvert_exporter": "python",
   "pygments_lexer": "ipython3",
   "version": "3.6.9"
  }
 },
 "nbformat": 4,
 "nbformat_minor": 5
}
